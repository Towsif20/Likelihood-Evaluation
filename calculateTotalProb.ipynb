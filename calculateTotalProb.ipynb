{
 "cells": [
  {
   "cell_type": "code",
   "execution_count": 1,
   "metadata": {},
   "outputs": [],
   "source": [
    "#calculate prob for single read\n",
    "file1=open(\"log10singleProb.txt\",\"r\")\n",
    "file2=open(\"finalSingleProbForMultipleReadProb.txt\",\"r\")\n",
    "file3=open(\"unmappedLogProbability.txt\",\"r\")\n",
    "line1=file1.readline()\n",
    "line2=file2.readline()\n",
    "line3=file3.readline()\n",
    "line1=line1.strip()\n",
    "line2=line2.strip()\n",
    "line3=line3.strip()\n",
    "line1=float(line1)\n",
    "line2=float(line2)\n",
    "line3=float(line3)\n",
    "file1.close()\n",
    "file2.close()\n",
    "file3.close()"
   ]
  },
  {
   "cell_type": "code",
   "execution_count": 2,
   "metadata": {},
   "outputs": [
    {
     "name": "stdout",
     "output_type": "stream",
     "text": [
      "-56624229.662196726\n"
     ]
    }
   ],
   "source": [
    "prob=line1+line2+line3\n",
    "print(prob)\n",
    "finalProb=10**(prob-int(prob))\n",
    "\n",
    "file=open(\"likelihood.txt\",\"w\")\n",
    "file.write(str(finalProb)+\"E\"+str(int(prob)))\n",
    "file.close()"
   ]
  }
 ],
 "metadata": {
  "interpreter": {
   "hash": "f027b4592910bbddabc03320229ffb3bed0d0840b4364d0114aa85295a38f7d3"
  },
  "kernelspec": {
   "display_name": "Python 3.10.0 64-bit",
   "language": "python",
   "name": "python3"
  },
  "language_info": {
   "codemirror_mode": {
    "name": "ipython",
    "version": 3
   },
   "file_extension": ".py",
   "mimetype": "text/x-python",
   "name": "python",
   "nbconvert_exporter": "python",
   "pygments_lexer": "ipython3",
   "version": "3.9.2"
  },
  "orig_nbformat": 4
 },
 "nbformat": 4,
 "nbformat_minor": 2
}
