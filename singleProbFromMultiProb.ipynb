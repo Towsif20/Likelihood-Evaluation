{
 "cells": [
  {
   "cell_type": "code",
   "execution_count": 1,
   "metadata": {},
   "outputs": [],
   "source": [
    "import numpy as np"
   ]
  },
  {
   "cell_type": "code",
   "execution_count": 2,
   "metadata": {},
   "outputs": [],
   "source": [
    "#read multiple reads from file\n",
    "file=open(\"log10multipleProbForSameRead.txt\",\"r\")\n",
    "lines=file.readline()\n",
    "prob=[]\n",
    "while lines:\n",
    "    #strip lines\n",
    "    lines=lines.strip()\n",
    "    lines=lines.split(\"\\t\")\n",
    "    prob.append(lines)\n",
    "    lines=file.readline()\n",
    "file.close()\n",
    "\n",
    "prob=[[float(i) for i in j] for j in prob]\n",
    "prob=np.array(prob,dtype=object)"
   ]
  },
  {
   "cell_type": "code",
   "execution_count": 3,
   "metadata": {},
   "outputs": [],
   "source": [
    "def getLowestIntPart(probArray):\n",
    "    #as all are negative\n",
    "    min=int(max(probArray))\n",
    "    return min\n",
    "\n",
    "    "
   ]
  },
  {
   "cell_type": "code",
   "execution_count": 4,
   "metadata": {},
   "outputs": [],
   "source": [
    "def calculateProbForSingleRead(probArray):\n",
    "    result=0\n",
    "    temp=0\n",
    "    for i in range(len(probArray)):\n",
    "        if probArray[i]> -50:\n",
    "            result+=10**probArray[i]\n",
    "    return np.log10(result)\n"
   ]
  },
  {
   "cell_type": "code",
   "execution_count": 5,
   "metadata": {},
   "outputs": [
    {
     "name": "stdout",
     "output_type": "stream",
     "text": [
      "-2585011.2515993486\n"
     ]
    }
   ],
   "source": [
    "\n",
    "#calculate single probability\n",
    "result=0\n",
    "for i in range(len(prob)):\n",
    "    minInt=getLowestIntPart(prob[i])\n",
    "    prob[i]=[x-minInt for x in prob[i]]\n",
    "    result+=minInt\n",
    "    result+=calculateProbForSingleRead(prob[i])\n",
    "print(result)\n",
    "file=open(\"finalSingleProbForMultipleReadProb.txt\",\"w\")\n",
    "file.write(str(result))\n",
    "file.close()"
   ]
  }
 ],
 "metadata": {
  "interpreter": {
   "hash": "f027b4592910bbddabc03320229ffb3bed0d0840b4364d0114aa85295a38f7d3"
  },
  "kernelspec": {
   "display_name": "Python 3.10.0 64-bit",
   "language": "python",
   "name": "python3"
  },
  "language_info": {
   "codemirror_mode": {
    "name": "ipython",
    "version": 3
   },
   "file_extension": ".py",
   "mimetype": "text/x-python",
   "name": "python",
   "nbconvert_exporter": "python",
   "pygments_lexer": "ipython3",
   "version": "3.9.2"
  },
  "orig_nbformat": 4
 },
 "nbformat": 4,
 "nbformat_minor": 2
}
